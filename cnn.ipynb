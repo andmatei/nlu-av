{
 "cells": [
  {
   "cell_type": "code",
   "execution_count": 1,
   "id": "685c8b76",
   "metadata": {},
   "outputs": [
    {
     "name": "stdout",
     "output_type": "stream",
     "text": [
      "Requirement already satisfied: datasets in c:\\users\\andrei\\desktop\\projects\\nlu\\.venv\\lib\\site-packages (2.18.0)\n",
      "Requirement already satisfied: filelock in c:\\users\\andrei\\desktop\\projects\\nlu\\.venv\\lib\\site-packages (from datasets) (3.13.3)\n",
      "Requirement already satisfied: numpy>=1.17 in c:\\users\\andrei\\desktop\\projects\\nlu\\.venv\\lib\\site-packages (from datasets) (1.26.4)\n",
      "Requirement already satisfied: pyarrow>=12.0.0 in c:\\users\\andrei\\desktop\\projects\\nlu\\.venv\\lib\\site-packages (from datasets) (15.0.2)\n",
      "Requirement already satisfied: pyarrow-hotfix in c:\\users\\andrei\\desktop\\projects\\nlu\\.venv\\lib\\site-packages (from datasets) (0.6)\n",
      "Requirement already satisfied: dill<0.3.9,>=0.3.0 in c:\\users\\andrei\\desktop\\projects\\nlu\\.venv\\lib\\site-packages (from datasets) (0.3.8)\n",
      "Requirement already satisfied: pandas in c:\\users\\andrei\\desktop\\projects\\nlu\\.venv\\lib\\site-packages (from datasets) (2.2.1)\n",
      "Requirement already satisfied: requests>=2.19.0 in c:\\users\\andrei\\desktop\\projects\\nlu\\.venv\\lib\\site-packages (from datasets) (2.31.0)\n",
      "Requirement already satisfied: tqdm>=4.62.1 in c:\\users\\andrei\\desktop\\projects\\nlu\\.venv\\lib\\site-packages (from datasets) (4.66.2)\n",
      "Requirement already satisfied: xxhash in c:\\users\\andrei\\desktop\\projects\\nlu\\.venv\\lib\\site-packages (from datasets) (3.4.1)\n",
      "Requirement already satisfied: multiprocess in c:\\users\\andrei\\desktop\\projects\\nlu\\.venv\\lib\\site-packages (from datasets) (0.70.16)\n",
      "Requirement already satisfied: fsspec<=2024.2.0,>=2023.1.0 in c:\\users\\andrei\\desktop\\projects\\nlu\\.venv\\lib\\site-packages (from fsspec[http]<=2024.2.0,>=2023.1.0->datasets) (2024.2.0)\n",
      "Requirement already satisfied: aiohttp in c:\\users\\andrei\\desktop\\projects\\nlu\\.venv\\lib\\site-packages (from datasets) (3.9.3)\n",
      "Requirement already satisfied: huggingface-hub>=0.19.4 in c:\\users\\andrei\\desktop\\projects\\nlu\\.venv\\lib\\site-packages (from datasets) (0.22.1)\n",
      "Requirement already satisfied: packaging in c:\\users\\andrei\\desktop\\projects\\nlu\\.venv\\lib\\site-packages (from datasets) (24.0)\n",
      "Requirement already satisfied: pyyaml>=5.1 in c:\\users\\andrei\\desktop\\projects\\nlu\\.venv\\lib\\site-packages (from datasets) (6.0.1)\n",
      "Requirement already satisfied: aiosignal>=1.1.2 in c:\\users\\andrei\\desktop\\projects\\nlu\\.venv\\lib\\site-packages (from aiohttp->datasets) (1.3.1)\n",
      "Requirement already satisfied: attrs>=17.3.0 in c:\\users\\andrei\\desktop\\projects\\nlu\\.venv\\lib\\site-packages (from aiohttp->datasets) (23.2.0)\n",
      "Requirement already satisfied: frozenlist>=1.1.1 in c:\\users\\andrei\\desktop\\projects\\nlu\\.venv\\lib\\site-packages (from aiohttp->datasets) (1.4.1)\n",
      "Requirement already satisfied: multidict<7.0,>=4.5 in c:\\users\\andrei\\desktop\\projects\\nlu\\.venv\\lib\\site-packages (from aiohttp->datasets) (6.0.5)\n",
      "Requirement already satisfied: yarl<2.0,>=1.0 in c:\\users\\andrei\\desktop\\projects\\nlu\\.venv\\lib\\site-packages (from aiohttp->datasets) (1.9.4)\n",
      "Requirement already satisfied: typing-extensions>=3.7.4.3 in c:\\users\\andrei\\desktop\\projects\\nlu\\.venv\\lib\\site-packages (from huggingface-hub>=0.19.4->datasets) (4.10.0)\n",
      "Requirement already satisfied: charset-normalizer<4,>=2 in c:\\users\\andrei\\desktop\\projects\\nlu\\.venv\\lib\\site-packages (from requests>=2.19.0->datasets) (3.3.2)\n",
      "Requirement already satisfied: idna<4,>=2.5 in c:\\users\\andrei\\desktop\\projects\\nlu\\.venv\\lib\\site-packages (from requests>=2.19.0->datasets) (3.6)\n",
      "Requirement already satisfied: urllib3<3,>=1.21.1 in c:\\users\\andrei\\desktop\\projects\\nlu\\.venv\\lib\\site-packages (from requests>=2.19.0->datasets) (2.2.1)\n",
      "Requirement already satisfied: certifi>=2017.4.17 in c:\\users\\andrei\\desktop\\projects\\nlu\\.venv\\lib\\site-packages (from requests>=2.19.0->datasets) (2024.2.2)\n",
      "Requirement already satisfied: colorama in c:\\users\\andrei\\desktop\\projects\\nlu\\.venv\\lib\\site-packages (from tqdm>=4.62.1->datasets) (0.4.6)\n",
      "Requirement already satisfied: python-dateutil>=2.8.2 in c:\\users\\andrei\\desktop\\projects\\nlu\\.venv\\lib\\site-packages (from pandas->datasets) (2.9.0.post0)\n",
      "Requirement already satisfied: pytz>=2020.1 in c:\\users\\andrei\\desktop\\projects\\nlu\\.venv\\lib\\site-packages (from pandas->datasets) (2024.1)\n",
      "Requirement already satisfied: tzdata>=2022.7 in c:\\users\\andrei\\desktop\\projects\\nlu\\.venv\\lib\\site-packages (from pandas->datasets) (2024.1)\n",
      "Requirement already satisfied: six>=1.5 in c:\\users\\andrei\\desktop\\projects\\nlu\\.venv\\lib\\site-packages (from python-dateutil>=2.8.2->pandas->datasets) (1.16.0)\n",
      "Note: you may need to restart the kernel to use updated packages.\n",
      "Requirement already satisfied: seqeval in c:\\users\\andrei\\desktop\\projects\\nlu\\.venv\\lib\\site-packages (1.2.2)Note: you may need to restart the kernel to use updated packages.\n",
      "\n",
      "Requirement already satisfied: numpy>=1.14.0 in c:\\users\\andrei\\desktop\\projects\\nlu\\.venv\\lib\\site-packages (from seqeval) (1.26.4)\n",
      "Requirement already satisfied: scikit-learn>=0.21.3 in c:\\users\\andrei\\desktop\\projects\\nlu\\.venv\\lib\\site-packages (from seqeval) (1.4.1.post1)\n",
      "Requirement already satisfied: scipy>=1.6.0 in c:\\users\\andrei\\desktop\\projects\\nlu\\.venv\\lib\\site-packages (from scikit-learn>=0.21.3->seqeval) (1.12.0)\n",
      "Requirement already satisfied: joblib>=1.2.0 in c:\\users\\andrei\\desktop\\projects\\nlu\\.venv\\lib\\site-packages (from scikit-learn>=0.21.3->seqeval) (1.3.2)\n",
      "Requirement already satisfied: threadpoolctl>=2.0.0 in c:\\users\\andrei\\desktop\\projects\\nlu\\.venv\\lib\\site-packages (from scikit-learn>=0.21.3->seqeval) (3.4.0)\n"
     ]
    }
   ],
   "source": [
    "%pip install datasets\n",
    "%pip install seqeval"
   ]
  },
  {
   "cell_type": "code",
   "execution_count": 16,
   "id": "d58755f6",
   "metadata": {},
   "outputs": [],
   "source": [
    "import pandas as pd\n",
    "import numpy as np\n",
    "import nltk\n",
    "import torch.nn as nn\n",
    "import torch\n",
    "import utils\n",
    "\n",
    "from datasets import Dataset\n",
    "from datasets import load_dataset"
   ]
  },
  {
   "cell_type": "code",
   "execution_count": 7,
   "id": "e1f829a5",
   "metadata": {},
   "outputs": [
    {
     "data": {
      "text/plain": [
       "['This', 'is', '*', '****', '********']"
      ]
     },
     "execution_count": 7,
     "metadata": {},
     "output_type": "execute_result"
    }
   ],
   "source": [
    "class TextDistorter:\n",
    "    def __init__(self, corpora):\n",
    "        self._corpora = corpora\n",
    "        self._wordfreq = nltk.FreqDist(\n",
    "            [word.lower() for text in self._corpora for word in text]\n",
    "        )\n",
    "\n",
    "    def distort(self, text, k, multiple=False, char=\"*\", digit=\"#\"):\n",
    "        word_set = [w[0] for w in self._wordfreq.most_common(k)]\n",
    "\n",
    "        for word, i in zip(text, range(len(text))):\n",
    "            if word.lower() not in word_set:\n",
    "                text[i] = self._encode(word, multiple, char, digit)\n",
    "\n",
    "        return text\n",
    "\n",
    "    def _encode(self, word, multiple=False, char=\"*\", digit=\"#\"):\n",
    "        result = \"\"\n",
    "\n",
    "        char_found = False\n",
    "        digit_found = False\n",
    "\n",
    "        for c in word:\n",
    "            if c.isalpha():\n",
    "                if multiple or (not char_found and  multiple):\n",
    "                    result += char\n",
    "                    char_found = True\n",
    "                    digit_found = False\n",
    "            elif c.isdigit():\n",
    "                if multiple or (not digit_found and not multiple):\n",
    "                    result += digit\n",
    "                    digit_found = True\n",
    "                    char_found = False\n",
    "            else:\n",
    "                result += c\n",
    "                char_found = False\n",
    "                digit_found = False\n",
    "\n",
    "        return result\n",
    "\n",
    "\n",
    "texts = [\"This is a test sentence\", \"This is another test sentence\"]\n",
    "words = [nltk.word_tokenize(text) for text in texts]\n",
    "\n",
    "distorter = TextDistorter(words)\n",
    "distorter.distort(words[0], 2, multiple=True)\n"
   ]
  },
  {
   "cell_type": "code",
   "execution_count": 8,
   "id": "1cde7511",
   "metadata": {},
   "outputs": [
    {
     "data": {
      "text/plain": [
       "True"
      ]
     },
     "execution_count": 8,
     "metadata": {},
     "output_type": "execute_result"
    }
   ],
   "source": [
    "corpus = utils.Corpus()\n",
    "corpus.open(\"data/dev.json\", preprocessed=True)"
   ]
  },
  {
   "cell_type": "code",
   "execution_count": 15,
   "id": "89419369",
   "metadata": {},
   "outputs": [
    {
     "ename": "AttributeError",
     "evalue": "module 'utils' has no attribute 'CustomFastTextEmbeddings'",
     "output_type": "error",
     "traceback": [
      "\u001b[1;31m---------------------------------------------------------------------------\u001b[0m",
      "\u001b[1;31mAttributeError\u001b[0m                            Traceback (most recent call last)",
      "Cell \u001b[1;32mIn[15], line 1\u001b[0m\n\u001b[1;32m----> 1\u001b[0m \u001b[43mutils\u001b[49m\u001b[38;5;241;43m.\u001b[39;49m\u001b[43mCustomFastTextEmbeddings\u001b[49m\n",
      "\u001b[1;31mAttributeError\u001b[0m: module 'utils' has no attribute 'CustomFastTextEmbeddings'"
     ]
    }
   ],
   "source": [
    "utils.CustomFastTextEmbeddings\n"
   ]
  },
  {
   "cell_type": "code",
   "execution_count": null,
   "id": "f67c2aff",
   "metadata": {},
   "outputs": [],
   "source": [
    "class TextCNN(nn.Module):\n",
    "    def __init__(self, embedding_dim, n_filters, filter_sizes, output_dim, dropout):\n",
    "        super().__init__()\n",
    "\n",
    "        self.convs = nn.ModuleList([\n",
    "            nn.Conv2d(in_channels=1, out_channels=n_filters, kernel_size=(fs, embedding_dim)) for fs in filter_sizes\n",
    "        ])\n",
    "        self.fc = nn.Linear(len(filter_sizes) * n_filters, output_dim)\n",
    "        self.dropout = nn.Dropout(dropout)\n",
    "\n",
    "    def forward(self, tensor):\n",
    "        embedded = tensor.unsqueeze(1)\n",
    "        conved = [nn.functional.relu(conv(embedded)).squeeze(3) for conv in self.convs]\n",
    "        pooled = [nn.functional.max_pool1d(conv, conv.shape[2]).squeeze(2) for conv in conved]\n",
    "        cat = self.dropout(torch.cat(pooled, dim=1))\n",
    "        return self.fc(cat)\n",
    "    \n",
    "class AVCNN(nn.Module):\n",
    "    def __init__(self, word_embedding_dim, sentence_embedding_dim, doc_embedding_dim):\n",
    "        super().__init__()\n",
    "\n",
    "        self.sentence_cnn = TextCNN(word_embedding_dim, 100, [3, 4, 5], sentence_embedding_dim, 0.5)\n",
    "        self.doc_cnn = TextCNN(sentence_embedding_dim, 100, [3, 4, 5], doc_embedding_dim, 0.5)\n",
    "\n",
    "    def forward(self, doc):\n",
    "        # Pass each sentence through the sentence CNN\n",
    "        sentence_tensors = [self.sentence_cnn(sentence) for sentence in doc]\n",
    "\n",
    "        # Concatenate the inputs to obtain the tensor for the document\n",
    "        document_tensor = torch.cat(sentence_tensors, dim=0)\n",
    "\n",
    "        # Pass the document tensor through the document CNN\n",
    "        document_output = self.doc_cnn(document_tensor)\n",
    "        return document_output\n"
   ]
  }
 ],
 "metadata": {
  "kernelspec": {
   "display_name": "Python 3 (ipykernel)",
   "language": "python",
   "name": "python3"
  },
  "language_info": {
   "codemirror_mode": {
    "name": "ipython",
    "version": 3
   },
   "file_extension": ".py",
   "mimetype": "text/x-python",
   "name": "python",
   "nbconvert_exporter": "python",
   "pygments_lexer": "ipython3",
   "version": "3.11.9"
  }
 },
 "nbformat": 4,
 "nbformat_minor": 5
}
